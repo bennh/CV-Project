{
 "cells": [
  {
   "cell_type": "markdown",
   "id": "c7a3c2a1",
   "metadata": {},
   "source": [
    "# CV Project: Deep Learning for Camera Pose Estimation: A Comparative Study on 7-Scenes (beta=50.0)"
   ]
  },
  {
   "cell_type": "code",
   "execution_count": 1,
   "id": "5e744bf5",
   "metadata": {},
   "outputs": [],
   "source": [
    "# demo.ipynb\n",
    "\n",
    "import os\n",
    "import argparse\n",
    "import pandas as pd\n",
    "import matplotlib.pyplot as plt\n",
    "\n",
    "from train import train\n",
    "from eval import evaluate\n",
    "from geometry_baseline import run_baseline\n",
    "\n",
    "DATA_ROOT = \"/Users/zhengbinheng/Desktop/7-scenes-dataset\"  \n",
    "OUT_DIR = \"runs/posenet_chess\"\n",
    "CKPT_PATH = os.path.join(OUT_DIR, \"best.ckpt\")\n",
    "RESULTS_DIR = \"results\"\n",
    "os.makedirs(RESULTS_DIR, exist_ok=True)\n"
   ]
  },
  {
   "cell_type": "code",
   "execution_count": 2,
   "id": "3b0194d0",
   "metadata": {},
   "outputs": [
    {
     "name": "stderr",
     "output_type": "stream",
     "text": [
      "/opt/anaconda3/envs/node2/lib/python3.13/site-packages/torch/utils/data/dataloader.py:683: UserWarning: 'pin_memory' argument is set as true but not supported on MPS now, then device pinned memory won't be used.\n",
      "  warnings.warn(warn_msg)\n"
     ]
    },
    {
     "name": "stdout",
     "output_type": "stream",
     "text": [
      "[1/30] avg_loss = 12.0458\n",
      "[2/30] avg_loss = 2.8748\n",
      "[3/30] avg_loss = 2.2960\n",
      "[4/30] avg_loss = 1.9752\n",
      "[5/30] avg_loss = 1.6200\n",
      "[6/30] avg_loss = 1.4007\n",
      "[7/30] avg_loss = 1.3027\n",
      "[8/30] avg_loss = 1.2251\n",
      "[9/30] avg_loss = 1.1558\n",
      "[10/30] avg_loss = 1.0311\n",
      "[11/30] avg_loss = 1.0133\n",
      "[12/30] avg_loss = 0.9534\n",
      "[13/30] avg_loss = 0.9092\n",
      "[14/30] avg_loss = 0.8619\n",
      "[15/30] avg_loss = 0.8437\n",
      "[16/30] avg_loss = 0.7976\n",
      "[17/30] avg_loss = 0.7662\n",
      "[18/30] avg_loss = 0.7788\n",
      "[19/30] avg_loss = 0.7320\n",
      "[20/30] avg_loss = 0.6849\n",
      "[21/30] avg_loss = 0.7028\n",
      "[22/30] avg_loss = 0.7248\n",
      "[23/30] avg_loss = 0.7277\n",
      "[24/30] avg_loss = 0.6845\n",
      "[25/30] avg_loss = 0.6670\n",
      "[26/30] avg_loss = 0.6473\n",
      "[27/30] avg_loss = 0.6861\n",
      "[28/30] avg_loss = 0.6155\n",
      "[29/30] avg_loss = 0.6432\n",
      "[30/30] avg_loss = 0.5861\n",
      "Training finished. Best loss = 0.5861\n",
      "Results saved in runs/posenet_chess\n"
     ]
    }
   ],
   "source": [
    "args = argparse.Namespace(\n",
    "    data_root=DATA_ROOT,\n",
    "    scene=\"chess\",\n",
    "    epochs=30,\n",
    "    batch_size=32,\n",
    "    lr=1e-4,\n",
    "    beta=50.0,\n",
    "    out=OUT_DIR\n",
    ")\n",
    "train(args)  # best.ckpt + loss\n"
   ]
  },
  {
   "cell_type": "code",
   "execution_count": 3,
   "id": "1233112d",
   "metadata": {},
   "outputs": [
    {
     "data": {
      "image/png": "[encoded data removed]",
      "text/plain": [
       "<Figure size 640x480 with 1 Axes>"
      ]
     },
     "metadata": {},
     "output_type": "display_data"
    }
   ],
   "source": [
    "df_loss = pd.read_csv(os.path.join(OUT_DIR, \"loss_curve.csv\"))\n",
    "plt.plot(df_loss[\"epoch\"], df_loss[\"loss\"], marker=\"o\")\n",
    "plt.xlabel(\"Epoch\")\n",
    "plt.ylabel(\"Training Loss\")\n",
    "plt.title(\"PoseNet Training Loss (Chess)\")\n",
    "plt.grid(True)\n",
    "plt.show()\n"
   ]
  },
  {
   "cell_type": "code",
   "execution_count": 4,
   "id": "c0883ed2",
   "metadata": {},
   "outputs": [
    {
     "name": "stdout",
     "output_type": "stream",
     "text": [
      "[PoseNet | chess] mean_t=0.180 m | median_t=0.138 m || mean_r=5.51° | median_r=4.94°\n",
      "[PoseNet | fire] mean_t=0.936 m | median_t=0.948 m || mean_r=38.76° | median_r=33.76°\n",
      "[PoseNet | heads] mean_t=0.879 m | median_t=0.845 m || mean_r=47.72° | median_r=46.52°\n"
     ]
    }
   ],
   "source": [
    "def run_eval(scene):\n",
    "    args = argparse.Namespace(\n",
    "        data_root=DATA_ROOT,\n",
    "        scene=scene,\n",
    "        ckpt=CKPT_PATH,\n",
    "        out=os.path.join(RESULTS_DIR, f\"{scene}_posenet.csv\")\n",
    "    )\n",
    "    stats, df = evaluate(args)\n",
    "    return stats, df\n",
    "\n",
    "scenes = [\"chess\", \"fire\", \"heads\"]\n",
    "\n",
    "pose_stats, pose_perframe = {}, {}\n",
    "for s in scenes:\n",
    "    stats, df = run_eval(s)\n",
    "    pose_stats[s] = stats\n",
    "    pose_perframe[s] = df\n"
   ]
  },
  {
   "cell_type": "code",
   "execution_count": 5,
   "id": "08a3760e",
   "metadata": {},
   "outputs": [
    {
     "data": {
      "text/html": [
       "<div>\n",
       "<style scoped>\n",
       "    .dataframe tbody tr th:only-of-type {\n",
       "        vertical-align: middle;\n",
       "    }\n",
       "\n",
       "    .dataframe tbody tr th {\n",
       "        vertical-align: top;\n",
       "    }\n",
       "\n",
       "    .dataframe thead th {\n",
       "        text-align: right;\n",
       "    }\n",
       "</style>\n",
       "<table border=\"1\" class=\"dataframe\">\n",
       "  <thead>\n",
       "    <tr style=\"text-align: right;\">\n",
       "      <th></th>\n",
       "      <th>Scene</th>\n",
       "      <th>PoseNet mean_t (m)</th>\n",
       "      <th>PoseNet median_t (m)</th>\n",
       "      <th>PoseNet mean_r (°)</th>\n",
       "      <th>PoseNet median_r (°)</th>\n",
       "    </tr>\n",
       "  </thead>\n",
       "  <tbody>\n",
       "    <tr>\n",
       "      <th>0</th>\n",
       "      <td>chess</td>\n",
       "      <td>0.180</td>\n",
       "      <td>0.138</td>\n",
       "      <td>5.508</td>\n",
       "      <td>4.945</td>\n",
       "    </tr>\n",
       "    <tr>\n",
       "      <th>1</th>\n",
       "      <td>fire</td>\n",
       "      <td>0.936</td>\n",
       "      <td>0.948</td>\n",
       "      <td>38.758</td>\n",
       "      <td>33.758</td>\n",
       "    </tr>\n",
       "    <tr>\n",
       "      <th>2</th>\n",
       "      <td>heads</td>\n",
       "      <td>0.879</td>\n",
       "      <td>0.845</td>\n",
       "      <td>47.716</td>\n",
       "      <td>46.523</td>\n",
       "    </tr>\n",
       "  </tbody>\n",
       "</table>\n",
       "</div>"
      ],
      "text/plain": [
       "   Scene  PoseNet mean_t (m)  PoseNet median_t (m)  PoseNet mean_r (°)  \\\n",
       "0  chess               0.180                 0.138               5.508   \n",
       "1   fire               0.936                 0.948              38.758   \n",
       "2  heads               0.879                 0.845              47.716   \n",
       "\n",
       "   PoseNet median_r (°)  \n",
       "0                 4.945  \n",
       "1                33.758  \n",
       "2                46.523  "
      ]
     },
     "execution_count": 5,
     "metadata": {},
     "output_type": "execute_result"
    }
   ],
   "source": [
    "summary = pd.DataFrame([\n",
    "    {\n",
    "        \"Scene\": s,\n",
    "        \"PoseNet mean_t (m)\": pose_stats[s][\"mean_t\"],\n",
    "        \"PoseNet median_t (m)\": pose_stats[s][\"median_t\"],\n",
    "        \"PoseNet mean_r (°)\": pose_stats[s][\"mean_r\"],\n",
    "        \"PoseNet median_r (°)\": pose_stats[s][\"median_r\"],\n",
    "    }\n",
    "    for s in scenes\n",
    "])\n",
    "\n",
    "summary.round(3)\n"
   ]
  }
 ],
 "metadata": {
  "kernelspec": {
   "display_name": "node2",
   "language": "python",
   "name": "python3"
  },
  "language_info": {
   "codemirror_mode": {
    "name": "ipython",
    "version": 3
   },
   "file_extension": ".py",
   "mimetype": "text/x-python",
   "name": "python",
   "nbconvert_exporter": "python",
   "pygments_lexer": "ipython3",
   "version": "3.13.2"
  }
 },
 "nbformat": 4,
 "nbformat_minor": 5
}
